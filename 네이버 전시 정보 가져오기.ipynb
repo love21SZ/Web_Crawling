{
 "cells": [
  {
   "cell_type": "code",
   "execution_count": 1,
   "id": "75bae3c5",
   "metadata": {},
   "outputs": [],
   "source": [
    "from selenium import webdriver\n",
    "from selenium.webdriver.common.keys import Keys\n",
    "from selenium.webdriver.common.by import By\n",
    "import pyperclip\n",
    "import time\n",
    "import warnings\n",
    "import pandas as pd\n",
    "warnings.filterwarnings(action = 'ignore')\n",
    "\n",
    "driver = webdriver.Chrome('/경로위치/chromedriver')\n",
    "driver.get('https://naver.com')\n",
    "time.sleep(1)"
   ]
  },
  {
   "cell_type": "code",
   "execution_count": 2,
   "id": "59bbc5e6",
   "metadata": {},
   "outputs": [],
   "source": [
    "def never_searching(keyword):\n",
    "    url = 'https://search.naver.com/search.naver?where=nexearch&sm=top_hty&fbm=1&ie=utf8&query=' + keyword\n",
    "    return url\n",
    "\n",
    "keyword = '전시회'\n",
    "url= never_searching(keyword)\n",
    "driver.get(url)"
   ]
  },
  {
   "cell_type": "code",
   "execution_count": 3,
   "id": "7e6d4c3e",
   "metadata": {},
   "outputs": [],
   "source": [
    "from bs4 import BeautifulSoup\n",
    "\n",
    "html = driver.page_source\n",
    "soup = BeautifulSoup(html, 'html.parser')"
   ]
  },
  {
   "cell_type": "code",
   "execution_count": 4,
   "id": "70a22701",
   "metadata": {},
   "outputs": [
    {
     "name": "stdout",
     "output_type": "stream",
     "text": [
      "조선의 백자, 군자지향 君子志向 2023.02.28.~2023.05.28. 리움미술관\n"
     ]
    }
   ],
   "source": [
    "ex_im = soup.select('div.data_area')\n",
    "\n",
    "\n",
    "title = ex_im[0].select('div.title')[0].text.strip()\n",
    "period = ex_im[0].select('div.info>dl.info_group>dd.no_ellip')[0].text.strip()\n",
    "location = ex_im[0].select('div.info>dl.info_group>dd.no_ellip')[1].text.strip()\n",
    "\n",
    "\n",
    "print(title,period,location)"
   ]
  },
  {
   "cell_type": "code",
   "execution_count": 5,
   "id": "9bb3fe77",
   "metadata": {},
   "outputs": [
    {
     "data": {
      "text/plain": [
       "['조선의 백자, 군자지향 君子志向', '김윤신 : 더하고 나누며, 하나', '오늘부터의 세계']"
      ]
     },
     "execution_count": 5,
     "metadata": {},
     "output_type": "execute_result"
    }
   ],
   "source": [
    "# 반복문으로 가져오기\n",
    "title_list_1 = []\n",
    "for i in range(0,3):\n",
    "    ex_im = soup.select('div.data_area')\n",
    "    title_1 = ex_im[i].select('div.area_text_box > strong.this_text')[0].text.strip()\n",
    "    title_list_1.append(title_1)\n",
    "    \n",
    "title_list_1"
   ]
  },
  {
   "cell_type": "code",
   "execution_count": 6,
   "id": "9d7d897d",
   "metadata": {},
   "outputs": [
    {
     "data": {
      "text/plain": [
       "['2023.02.28.~2023.05.28.',\n",
       " '2023.02.28.~2023.05.28.',\n",
       " '2023.02.28.~2023.05.28.']"
      ]
     },
     "execution_count": 6,
     "metadata": {},
     "output_type": "execute_result"
    }
   ],
   "source": [
    "# 반복문으로 가져오기\n",
    "period_list_1 = []\n",
    "for i in range(0,3):\n",
    "    ex_im = soup.select('div.data_area')\n",
    "    period_1 = ex_im[0].select('div.info>dl.info_group>dd.no_ellip')[0].text.strip()\n",
    "    period_list_1.append(period_1)\n",
    "    \n",
    "period_list_1"
   ]
  },
  {
   "cell_type": "code",
   "execution_count": 7,
   "id": "efa270f9",
   "metadata": {},
   "outputs": [
    {
     "data": {
      "text/plain": [
       "['리움미술관', '서울시립 남서울미술관', 'KF갤러리']"
      ]
     },
     "execution_count": 7,
     "metadata": {},
     "output_type": "execute_result"
    }
   ],
   "source": [
    "# 반복문으로 가져오기\n",
    "location_list_1 = []\n",
    "for i in range(0,3):\n",
    "    ex_im = soup.select('div.data_area')\n",
    "    location_1 = ex_im[i].select('div.info>dl.info_group>dd.no_ellip')[1].text.strip()\n",
    "    location_list_1.append(location_1)\n",
    "    \n",
    "location_list_1"
   ]
  },
  {
   "cell_type": "code",
   "execution_count": 8,
   "id": "d0ecbcff",
   "metadata": {
    "scrolled": false
   },
   "outputs": [
    {
     "data": {
      "text/html": [
       "<div>\n",
       "<style scoped>\n",
       "    .dataframe tbody tr th:only-of-type {\n",
       "        vertical-align: middle;\n",
       "    }\n",
       "\n",
       "    .dataframe tbody tr th {\n",
       "        vertical-align: top;\n",
       "    }\n",
       "\n",
       "    .dataframe thead th {\n",
       "        text-align: right;\n",
       "    }\n",
       "</style>\n",
       "<table border=\"1\" class=\"dataframe\">\n",
       "  <thead>\n",
       "    <tr style=\"text-align: right;\">\n",
       "      <th></th>\n",
       "      <th>제목</th>\n",
       "      <th>기간</th>\n",
       "      <th>장소</th>\n",
       "    </tr>\n",
       "  </thead>\n",
       "  <tbody>\n",
       "    <tr>\n",
       "      <th>0</th>\n",
       "      <td>조선의 백자, 군자지향 君子志向</td>\n",
       "      <td>2023.02.28.~2023.05.28.</td>\n",
       "      <td>리움미술관</td>\n",
       "    </tr>\n",
       "    <tr>\n",
       "      <th>1</th>\n",
       "      <td>김윤신 : 더하고 나누며, 하나</td>\n",
       "      <td>2023.02.28.~2023.05.28.</td>\n",
       "      <td>서울시립 남서울미술관</td>\n",
       "    </tr>\n",
       "    <tr>\n",
       "      <th>2</th>\n",
       "      <td>오늘부터의 세계</td>\n",
       "      <td>2023.02.28.~2023.05.28.</td>\n",
       "      <td>KF갤러리</td>\n",
       "    </tr>\n",
       "  </tbody>\n",
       "</table>\n",
       "</div>"
      ],
      "text/plain": [
       "                  제목                       기간           장소\n",
       "0  조선의 백자, 군자지향 君子志向  2023.02.28.~2023.05.28.        리움미술관\n",
       "1  김윤신 : 더하고 나누며, 하나  2023.02.28.~2023.05.28.  서울시립 남서울미술관\n",
       "2           오늘부터의 세계  2023.02.28.~2023.05.28.        KF갤러리"
      ]
     },
     "execution_count": 8,
     "metadata": {},
     "output_type": "execute_result"
    }
   ],
   "source": [
    "d_2 = pd.DataFrame(zip(title_list_1,period_list_1,location_list_1),columns = [\"제목\",\"기간\",\"장소\"])\n",
    "d_2"
   ]
  },
  {
   "cell_type": "code",
   "execution_count": 9,
   "id": "f323a380",
   "metadata": {},
   "outputs": [],
   "source": [
    "all_data = []\n",
    "def get_ex_important(driver) :\n",
    "    \n",
    "    # 현재 페이지 HTML 정보 가져오기\n",
    "    html = driver.page_source\n",
    "    soup = BeautifulSoup(html, 'html.parser')\n",
    "    \n",
    "    title_list = []\n",
    "    for i in range(0,3):\n",
    "        ex_im = soup.select('div.data_area')\n",
    "        title = ex_im[i].select('div.area_text_box>strong.this_text')[0].text.strip()\n",
    "        title_list.append(title)\n",
    "        \n",
    "    period_list = []\n",
    "    for i in range(0,3):\n",
    "        ex_im = soup.select('div.data_area')\n",
    "        period = ex_im[0].select('div.info>dl.info_group>dd.no_ellip')[0].text.strip()\n",
    "        period_list.append(period)\n",
    "        \n",
    "    location_list = []\n",
    "    for i in range(0,3):\n",
    "        ex_im = soup.select('div.data_area')\n",
    "        location = ex_im[i].select('div.info>dl.info_group>dd.no_ellip')[1].text.strip()\n",
    "        location_list.append(location)\n",
    "        \n",
    "    df = pd.DataFrame(zip(title_list,period_list,location_list),columns = [\"제목\",\"기간\",\"장소\"])\n",
    "    all_data.append(df)\n",
    "        \n",
    "    return all_data"
   ]
  },
  {
   "cell_type": "code",
   "execution_count": 10,
   "id": "85184a6a",
   "metadata": {},
   "outputs": [],
   "source": [
    "import time\n",
    "\n",
    "def move_next(driver) :\n",
    "    \n",
    "    try:\n",
    "        right = driver.find_element(By.CLASS_NAME,'pg_next.on')\n",
    "    except:\n",
    "        right = driver.find_element(By.CLASS_NAME,'pg_next')\n",
    "    \n",
    "    right.click()\n",
    "    time.sleep(3)"
   ]
  },
  {
   "cell_type": "code",
   "execution_count": 11,
   "id": "16941788",
   "metadata": {
    "scrolled": true
   },
   "outputs": [],
   "source": [
    "move_next(driver)"
   ]
  },
  {
   "cell_type": "markdown",
   "id": "e502628b",
   "metadata": {},
   "source": [
    "# 전체 페이지 가져오기"
   ]
  },
  {
   "cell_type": "code",
   "execution_count": null,
   "id": "7e089670",
   "metadata": {},
   "outputs": [],
   "source": [
    "# 전체 페이지 가져오기\n",
    "\n",
    "from selenium import webdriver\n",
    "from bs4 import BeautifulSoup\n",
    "from tqdm import tqdm\n",
    "import time\n",
    "import pandas as pd\n",
    "import warnings\n",
    "warnings.filterwarnings(action='ignore')\n",
    "\n",
    "driver = webdriver.Chrome('/경로위치/chromedriver')\n",
    "driver.get('https://naver.com')\n",
    "\n",
    "driver.implicitly_wait(3)\n",
    "\n",
    "\n",
    "def never_searching(keyword):\n",
    "    url = 'https://search.naver.com/search.naver?where=nexearch&sm=top_hty&fbm=1&ie=utf8&query=' + keyword\n",
    "    return url\n",
    "\n",
    "keyword = '전시회'\n",
    "url= never_searching(keyword)\n",
    "driver.get(url)\n",
    "\n",
    "results = []\n",
    "\n",
    "target = 111\n",
    "\n",
    "for i in range(target) :\n",
    "    try:\n",
    "        data = get_ex_important(driver)\n",
    "        results.append(data)\n",
    "        move_next(driver)\n",
    "        \n",
    "    except :\n",
    "        time.sleep(0.1)\n",
    "        move_next(driver)\n",
    "        \n",
    "    df_dd = pd.concat(all_data)\n",
    "    \n",
    "df_dd.to_excel('never_ex_{}_2023_1_result.xlsx'.format(keyword),index=False)\n",
    "\n",
    "driver.close()"
   ]
  },
  {
   "cell_type": "code",
   "execution_count": 12,
   "id": "db4a352b",
   "metadata": {
    "scrolled": true
   },
   "outputs": [
    {
     "data": {
      "text/html": [
       "<div>\n",
       "<style scoped>\n",
       "    .dataframe tbody tr th:only-of-type {\n",
       "        vertical-align: middle;\n",
       "    }\n",
       "\n",
       "    .dataframe tbody tr th {\n",
       "        vertical-align: top;\n",
       "    }\n",
       "\n",
       "    .dataframe thead th {\n",
       "        text-align: right;\n",
       "    }\n",
       "</style>\n",
       "<table border=\"1\" class=\"dataframe\">\n",
       "  <thead>\n",
       "    <tr style=\"text-align: right;\">\n",
       "      <th></th>\n",
       "      <th>제목</th>\n",
       "      <th>기간</th>\n",
       "      <th>장소</th>\n",
       "    </tr>\n",
       "  </thead>\n",
       "  <tbody>\n",
       "    <tr>\n",
       "      <th>0</th>\n",
       "      <td>조선의 백자, 군자지향 君子志向</td>\n",
       "      <td>2023.02.28.~2023.05.28.</td>\n",
       "      <td>리움미술관</td>\n",
       "    </tr>\n",
       "    <tr>\n",
       "      <th>1</th>\n",
       "      <td>김윤신 : 더하고 나누며, 하나</td>\n",
       "      <td>2023.02.28.~2023.05.28.</td>\n",
       "      <td>서울시립 남서울미술관</td>\n",
       "    </tr>\n",
       "    <tr>\n",
       "      <th>2</th>\n",
       "      <td>오늘부터의 세계</td>\n",
       "      <td>2023.02.28.~2023.05.28.</td>\n",
       "      <td>KF갤러리</td>\n",
       "    </tr>\n",
       "    <tr>\n",
       "      <th>3</th>\n",
       "      <td>김효선 : Something In Between ; From Aesthetic Di...</td>\n",
       "      <td>2023.03.01.~2023.04.07.</td>\n",
       "      <td>정향재</td>\n",
       "    </tr>\n",
       "    <tr>\n",
       "      <th>4</th>\n",
       "      <td>2nd NEW CLASSIC : 시작은 빛</td>\n",
       "      <td>2023.03.01.~2023.04.07.</td>\n",
       "      <td>KT&amp;G 상상마당</td>\n",
       "    </tr>\n",
       "  </tbody>\n",
       "</table>\n",
       "</div>"
      ],
      "text/plain": [
       "                                                  제목                       기간  \\\n",
       "0                                  조선의 백자, 군자지향 君子志向  2023.02.28.~2023.05.28.   \n",
       "1                                  김윤신 : 더하고 나누며, 하나  2023.02.28.~2023.05.28.   \n",
       "2                                           오늘부터의 세계  2023.02.28.~2023.05.28.   \n",
       "3  김효선 : Something In Between ; From Aesthetic Di...  2023.03.01.~2023.04.07.   \n",
       "4                            2nd NEW CLASSIC : 시작은 빛  2023.03.01.~2023.04.07.   \n",
       "\n",
       "            장소  \n",
       "0        리움미술관  \n",
       "1  서울시립 남서울미술관  \n",
       "2        KF갤러리  \n",
       "3          정향재  \n",
       "4    KT&G 상상마당  "
      ]
     },
     "execution_count": 12,
     "metadata": {},
     "output_type": "execute_result"
    }
   ],
   "source": [
    "Ex_2023 = pd.read_excel('never_ex_전시회_2023_1_result.xlsx')\n",
    "Ex_2023.head()"
   ]
  },
  {
   "cell_type": "code",
   "execution_count": 13,
   "id": "83e40d86",
   "metadata": {},
   "outputs": [
    {
     "data": {
      "text/html": [
       "<div>\n",
       "<style scoped>\n",
       "    .dataframe tbody tr th:only-of-type {\n",
       "        vertical-align: middle;\n",
       "    }\n",
       "\n",
       "    .dataframe tbody tr th {\n",
       "        vertical-align: top;\n",
       "    }\n",
       "\n",
       "    .dataframe thead th {\n",
       "        text-align: right;\n",
       "    }\n",
       "</style>\n",
       "<table border=\"1\" class=\"dataframe\">\n",
       "  <thead>\n",
       "    <tr style=\"text-align: right;\">\n",
       "      <th></th>\n",
       "      <th>제목</th>\n",
       "      <th>기간</th>\n",
       "      <th>장소</th>\n",
       "    </tr>\n",
       "  </thead>\n",
       "  <tbody>\n",
       "    <tr>\n",
       "      <th>322</th>\n",
       "      <td>Kingscribbler : THE SCRIBBLED LINE IS LIFE</td>\n",
       "      <td>2023.02.16.~2023.03.05.</td>\n",
       "      <td>로이갤러리 압구정</td>\n",
       "    </tr>\n",
       "    <tr>\n",
       "      <th>323</th>\n",
       "      <td>This is Fashion Photography</td>\n",
       "      <td>2023.02.16.~2023.03.05.</td>\n",
       "      <td>캐논갤러리</td>\n",
       "    </tr>\n",
       "    <tr>\n",
       "      <th>324</th>\n",
       "      <td>공과예 - 현대도예 앞에 서다</td>\n",
       "      <td>2023.02.07.~2023.03.05.</td>\n",
       "      <td>용산공예관</td>\n",
       "    </tr>\n",
       "    <tr>\n",
       "      <th>325</th>\n",
       "      <td>우리 이제 만나요</td>\n",
       "      <td>2023.02.07.~2023.03.05.</td>\n",
       "      <td>국립민속박물관</td>\n",
       "    </tr>\n",
       "    <tr>\n",
       "      <th>326</th>\n",
       "      <td>제12회 부산국제화랑아트페어</td>\n",
       "      <td>2023.02.07.~2023.03.05.</td>\n",
       "      <td>BEXCO</td>\n",
       "    </tr>\n",
       "  </tbody>\n",
       "</table>\n",
       "</div>"
      ],
      "text/plain": [
       "                                             제목                       기간  \\\n",
       "322  Kingscribbler : THE SCRIBBLED LINE IS LIFE  2023.02.16.~2023.03.05.   \n",
       "323                 This is Fashion Photography  2023.02.16.~2023.03.05.   \n",
       "324                            공과예 - 현대도예 앞에 서다  2023.02.07.~2023.03.05.   \n",
       "325                                   우리 이제 만나요  2023.02.07.~2023.03.05.   \n",
       "326                             제12회 부산국제화랑아트페어  2023.02.07.~2023.03.05.   \n",
       "\n",
       "            장소  \n",
       "322  로이갤러리 압구정  \n",
       "323      캐논갤러리  \n",
       "324      용산공예관  \n",
       "325    국립민속박물관  \n",
       "326      BEXCO  "
      ]
     },
     "execution_count": 13,
     "metadata": {},
     "output_type": "execute_result"
    }
   ],
   "source": [
    "Ex_2023.tail()"
   ]
  },
  {
   "cell_type": "code",
   "execution_count": 14,
   "id": "57b5b766",
   "metadata": {},
   "outputs": [
    {
     "data": {
      "text/plain": [
       "(327, 3)"
      ]
     },
     "execution_count": 14,
     "metadata": {},
     "output_type": "execute_result"
    }
   ],
   "source": [
    "Ex_2023.shape"
   ]
  },
  {
   "cell_type": "code",
   "execution_count": 15,
   "id": "efb3ddf8",
   "metadata": {
    "scrolled": false
   },
   "outputs": [
    {
     "name": "stdout",
     "output_type": "stream",
     "text": [
      "<class 'pandas.core.frame.DataFrame'>\n",
      "RangeIndex: 327 entries, 0 to 326\n",
      "Data columns (total 3 columns):\n",
      " #   Column  Non-Null Count  Dtype \n",
      "---  ------  --------------  ----- \n",
      " 0   제목      327 non-null    object\n",
      " 1   기간      327 non-null    object\n",
      " 2   장소      327 non-null    object\n",
      "dtypes: object(3)\n",
      "memory usage: 7.8+ KB\n"
     ]
    }
   ],
   "source": [
    "Ex_2023.info()"
   ]
  },
  {
   "cell_type": "code",
   "execution_count": 16,
   "id": "99cbf607",
   "metadata": {},
   "outputs": [
    {
     "data": {
      "text/plain": [
       "제목    0\n",
       "기간    0\n",
       "장소    0\n",
       "dtype: int64"
      ]
     },
     "execution_count": 16,
     "metadata": {},
     "output_type": "execute_result"
    }
   ],
   "source": [
    "Ex_2023.isnull().sum()"
   ]
  },
  {
   "cell_type": "code",
   "execution_count": 17,
   "id": "c3c8e464",
   "metadata": {},
   "outputs": [
    {
     "data": {
      "text/plain": [
       "0"
      ]
     },
     "execution_count": 17,
     "metadata": {},
     "output_type": "execute_result"
    }
   ],
   "source": [
    "Ex_2023.duplicated().sum()"
   ]
  },
  {
   "cell_type": "code",
   "execution_count": 18,
   "id": "9f2c0883",
   "metadata": {},
   "outputs": [
    {
     "data": {
      "text/plain": [
       "(327, 3)"
      ]
     },
     "execution_count": 18,
     "metadata": {},
     "output_type": "execute_result"
    }
   ],
   "source": [
    "Ex_2023.shape"
   ]
  }
 ],
 "metadata": {
  "kernelspec": {
   "display_name": "Python 3 (ipykernel)",
   "language": "python",
   "name": "python3"
  },
  "language_info": {
   "codemirror_mode": {
    "name": "ipython",
    "version": 3
   },
   "file_extension": ".py",
   "mimetype": "text/x-python",
   "name": "python",
   "nbconvert_exporter": "python",
   "pygments_lexer": "ipython3",
   "version": "3.9.12"
  }
 },
 "nbformat": 4,
 "nbformat_minor": 5
}
