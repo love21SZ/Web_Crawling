{
 "cells": [
  {
   "cell_type": "code",
   "execution_count": 1,
   "id": "c8845951",
   "metadata": {},
   "outputs": [],
   "source": [
    "from bs4 import BeautifulSoup\n",
    "import pandas as pd\n",
    "from urllib.request import urlopen\n",
    "\n",
    "url =\"https://movie.naver.com/movie/sdb/rank/rmovie.naver?sel=cur&date=20230304\"\n",
    "\n",
    "html_obj = urlopen(url)\n",
    "\n",
    "bs_obj = BeautifulSoup(html_obj, 'html.parser')"
   ]
  },
  {
   "cell_type": "code",
   "execution_count": 2,
   "id": "0fbf03a7",
   "metadata": {},
   "outputs": [
    {
     "data": {
      "text/plain": [
       "<div class=\"tit5\">\n",
       "<a href=\"/movie/bi/mi/basic.naver?code=224494\" title=\"아임 히어로 더 파이널\">아임 히어로 더 파이널</a>\n",
       "</div>"
      ]
     },
     "execution_count": 2,
     "metadata": {},
     "output_type": "execute_result"
    }
   ],
   "source": [
    "# 결과가 저장된 리스트에서 첫번째 항목을 가져온다\n",
    "\n",
    "bs_obj.find_all('div', 'tit5')[0]"
   ]
  },
  {
   "cell_type": "code",
   "execution_count": 3,
   "id": "37f19371",
   "metadata": {},
   "outputs": [
    {
     "data": {
      "text/plain": [
       "<a href=\"/movie/bi/mi/basic.naver?code=224494\" title=\"아임 히어로 더 파이널\">아임 히어로 더 파이널</a>"
      ]
     },
     "execution_count": 3,
     "metadata": {},
     "output_type": "execute_result"
    }
   ],
   "source": [
    "# a 태그만 가져온다\n",
    "bs_obj.find_all('div', 'tit5')[0].a"
   ]
  },
  {
   "cell_type": "code",
   "execution_count": 4,
   "id": "177ddb51",
   "metadata": {},
   "outputs": [
    {
     "data": {
      "text/plain": [
       "'아임 히어로 더 파이널'"
      ]
     },
     "execution_count": 4,
     "metadata": {},
     "output_type": "execute_result"
    }
   ],
   "source": [
    "# a 태그안에 들어있는 텍스트 문자만 추출한다-> text, string\n",
    "\n",
    "bs_obj.find_all('div', 'tit5')[0].a.text"
   ]
  },
  {
   "cell_type": "code",
   "execution_count": 5,
   "id": "b74c1a4c",
   "metadata": {},
   "outputs": [
    {
     "name": "stdout",
     "output_type": "stream",
     "text": [
      "['아임 히어로 더 파이널', '탑건: 매버릭', '다음 소희', '더 퍼스트 슬램덩크', '올빼미', '극장판 주술회전 0', '멍뭉이', '러브레터', '코다', '탄생', '비긴 어게인', '영웅', '극장판 소드 아트 온라인 -오디널 스케일-', '하녀', '카운트', '서치 2', '장화신은 고양이: 끝내주는 모험', '엘비스', '너의 이름은.', '여름날 우리', '항거:유관순 이야기', '아바타: 물의 길', '헤어질 결심', '라라랜드', '오늘 밤, 세계에서 이 사랑이 사라진다 해도', '양자경의 더 모든 날 모든 순간', '블루 재스민', '졸업', '애프터썬', '티파니에서 아침을', '큐어', '이장', '상견니', '에브리씽 에브리웨어 올 앳 원스', '언어의 정원', '몽상가들', '본즈 앤 올', '날씨의 아이', '별을 쫓는 아이', '바빌론', 'TAR 타르', '사랑할 땐 누구나 최악이 된다', '천룡팔부: 교봉전', '메간', '더 배트맨', '앤트맨과 와스프: 퀀텀매니아', '유령', '원피스 필름 레드', '대외비', '귀멸의 칼날: 상현집결, 그리고 도공 마을로']\n"
     ]
    }
   ],
   "source": [
    "# 전체 영화 제목 가져오기\n",
    "\n",
    "movie_name = [i.a.text for i in bs_obj.find_all('div', 'tit5')]\n",
    "print(movie_name)"
   ]
  },
  {
   "cell_type": "code",
   "execution_count": 6,
   "id": "45079613",
   "metadata": {},
   "outputs": [
    {
     "data": {
      "text/plain": [
       "[<td class=\"point\">9.90</td>,\n",
       " <td class=\"point\">9.76</td>,\n",
       " <td class=\"point\">9.47</td>,\n",
       " <td class=\"point\">9.45</td>,\n",
       " <td class=\"point\">9.30</td>,\n",
       " <td class=\"point\">9.21</td>,\n",
       " <td class=\"point\">9.20</td>,\n",
       " <td class=\"point\">9.14</td>,\n",
       " <td class=\"point\">9.13</td>,\n",
       " <td class=\"point\">9.06</td>,\n",
       " <td class=\"point\">9.04</td>,\n",
       " <td class=\"point\">8.99</td>,\n",
       " <td class=\"point\">8.95</td>,\n",
       " <td class=\"point\">8.91</td>,\n",
       " <td class=\"point\">8.91</td>,\n",
       " <td class=\"point\">8.89</td>,\n",
       " <td class=\"point\">8.85</td>,\n",
       " <td class=\"point\">8.83</td>,\n",
       " <td class=\"point\">8.81</td>,\n",
       " <td class=\"point\">8.77</td>,\n",
       " <td class=\"point\">8.66</td>,\n",
       " <td class=\"point\">8.65</td>,\n",
       " <td class=\"point\">8.64</td>,\n",
       " <td class=\"point\">8.63</td>,\n",
       " <td class=\"point\">8.62</td>,\n",
       " <td class=\"point\">8.61</td>,\n",
       " <td class=\"point\">8.51</td>,\n",
       " <td class=\"point\">8.49</td>,\n",
       " <td class=\"point\">8.44</td>,\n",
       " <td class=\"point\">8.36</td>,\n",
       " <td class=\"point\">8.34</td>,\n",
       " <td class=\"point\">8.33</td>,\n",
       " <td class=\"point\">8.28</td>,\n",
       " <td class=\"point\">8.22</td>,\n",
       " <td class=\"point\">8.17</td>,\n",
       " <td class=\"point\">8.10</td>,\n",
       " <td class=\"point\">8.07</td>,\n",
       " <td class=\"point\">7.97</td>,\n",
       " <td class=\"point\">7.89</td>,\n",
       " <td class=\"point\">7.89</td>,\n",
       " <td class=\"point\">7.79</td>,\n",
       " <td class=\"point\">7.75</td>,\n",
       " <td class=\"point\">7.38</td>,\n",
       " <td class=\"point\">7.38</td>,\n",
       " <td class=\"point\">7.21</td>,\n",
       " <td class=\"point\">7.18</td>,\n",
       " <td class=\"point\">6.81</td>,\n",
       " <td class=\"point\">6.77</td>,\n",
       " <td class=\"point\">6.19</td>,\n",
       " <td class=\"point\">6.09</td>]"
      ]
     },
     "execution_count": 6,
     "metadata": {},
     "output_type": "execute_result"
    }
   ],
   "source": [
    "# 평점 가져오기\n",
    "\n",
    "bs_obj.find_all('td', 'point')"
   ]
  },
  {
   "cell_type": "code",
   "execution_count": 7,
   "id": "7dcfbec3",
   "metadata": {},
   "outputs": [
    {
     "data": {
      "text/plain": [
       "'9.90'"
      ]
     },
     "execution_count": 7,
     "metadata": {},
     "output_type": "execute_result"
    }
   ],
   "source": [
    "# 결과값중에서 텍스트 문자만 추출한다\n",
    "\n",
    "bs_obj.find_all('td', 'point')[0].string"
   ]
  },
  {
   "cell_type": "code",
   "execution_count": 8,
   "id": "fe62535d",
   "metadata": {},
   "outputs": [
    {
     "name": "stdout",
     "output_type": "stream",
     "text": [
      "['9.90', '9.76', '9.47', '9.45', '9.30', '9.21', '9.20', '9.14', '9.13', '9.06', '9.04', '8.99', '8.95', '8.91', '8.91', '8.89', '8.85', '8.83', '8.81', '8.77', '8.66', '8.65', '8.64', '8.63', '8.62', '8.61', '8.51', '8.49', '8.44', '8.36', '8.34', '8.33', '8.28', '8.22', '8.17', '8.10', '8.07', '7.97', '7.89', '7.89', '7.79', '7.75', '7.38', '7.38', '7.21', '7.18', '6.81', '6.77', '6.19', '6.09']\n"
     ]
    }
   ],
   "source": [
    "# 영화명에 따른 전체 평점을 가져온다\n",
    "\n",
    "movie_point = [i.string for i in bs_obj.find_all('td', 'point')]\n",
    "print(movie_point)"
   ]
  },
  {
   "cell_type": "code",
   "execution_count": 9,
   "id": "f370223f",
   "metadata": {},
   "outputs": [
    {
     "name": "stdout",
     "output_type": "stream",
     "text": [
      "영화명 --->  50\n",
      "평점 ----->  50\n"
     ]
    }
   ],
   "source": [
    "# 영화명과 평점의 갯수 확인\n",
    "\n",
    "print(\"영화명 ---> \", len(movie_name))\n",
    "print(\"평점 -----> \", len(movie_point))"
   ]
  },
  {
   "cell_type": "code",
   "execution_count": 10,
   "id": "289b964b",
   "metadata": {
    "scrolled": true
   },
   "outputs": [
    {
     "name": "stdout",
     "output_type": "stream",
     "text": [
      "DatetimeIndex(['2023-01-01', '2023-01-02', '2023-01-03', '2023-01-04',\n",
      "               '2023-01-05', '2023-01-06', '2023-01-07', '2023-01-08',\n",
      "               '2023-01-09', '2023-01-10', '2023-01-11', '2023-01-12',\n",
      "               '2023-01-13', '2023-01-14', '2023-01-15', '2023-01-16',\n",
      "               '2023-01-17', '2023-01-18', '2023-01-19', '2023-01-20',\n",
      "               '2023-01-21', '2023-01-22', '2023-01-23', '2023-01-24',\n",
      "               '2023-01-25', '2023-01-26', '2023-01-27', '2023-01-28',\n",
      "               '2023-01-29', '2023-01-30', '2023-01-31', '2023-02-01',\n",
      "               '2023-02-02', '2023-02-03', '2023-02-04', '2023-02-05',\n",
      "               '2023-02-06', '2023-02-07', '2023-02-08', '2023-02-09',\n",
      "               '2023-02-10', '2023-02-11', '2023-02-12', '2023-02-13',\n",
      "               '2023-02-14', '2023-02-15', '2023-02-16', '2023-02-17',\n",
      "               '2023-02-18', '2023-02-19', '2023-02-20', '2023-02-21',\n",
      "               '2023-02-22', '2023-02-23', '2023-02-24', '2023-02-25',\n",
      "               '2023-02-26', '2023-02-27', '2023-02-28', '2023-03-01',\n",
      "               '2023-03-02', '2023-03-03', '2023-03-04'],\n",
      "              dtype='datetime64[ns]', freq='D')\n"
     ]
    }
   ],
   "source": [
    "date = pd.date_range('2023-1-1', periods = 63, freq='D')\n",
    "print(date)"
   ]
  },
  {
   "cell_type": "code",
   "execution_count": 11,
   "id": "b5c1992f",
   "metadata": {
    "scrolled": false
   },
   "outputs": [
    {
     "name": "stdout",
     "output_type": "stream",
     "text": [
      "2023-01-01 00:00:00\n",
      "2023-01-02 00:00:00\n",
      "2023-01-03 00:00:00\n",
      "2023-01-04 00:00:00\n",
      "2023-01-05 00:00:00\n",
      "2023-01-06 00:00:00\n",
      "2023-01-07 00:00:00\n",
      "2023-01-08 00:00:00\n",
      "2023-01-09 00:00:00\n",
      "2023-01-10 00:00:00\n",
      "2023-01-11 00:00:00\n",
      "2023-01-12 00:00:00\n",
      "2023-01-13 00:00:00\n",
      "2023-01-14 00:00:00\n",
      "2023-01-15 00:00:00\n",
      "2023-01-16 00:00:00\n",
      "2023-01-17 00:00:00\n",
      "2023-01-18 00:00:00\n",
      "2023-01-19 00:00:00\n",
      "2023-01-20 00:00:00\n",
      "2023-01-21 00:00:00\n",
      "2023-01-22 00:00:00\n",
      "2023-01-23 00:00:00\n",
      "2023-01-24 00:00:00\n",
      "2023-01-25 00:00:00\n",
      "2023-01-26 00:00:00\n",
      "2023-01-27 00:00:00\n",
      "2023-01-28 00:00:00\n",
      "2023-01-29 00:00:00\n",
      "2023-01-30 00:00:00\n",
      "2023-01-31 00:00:00\n",
      "2023-02-01 00:00:00\n",
      "2023-02-02 00:00:00\n",
      "2023-02-03 00:00:00\n",
      "2023-02-04 00:00:00\n",
      "2023-02-05 00:00:00\n",
      "2023-02-06 00:00:00\n",
      "2023-02-07 00:00:00\n",
      "2023-02-08 00:00:00\n",
      "2023-02-09 00:00:00\n",
      "2023-02-10 00:00:00\n",
      "2023-02-11 00:00:00\n",
      "2023-02-12 00:00:00\n",
      "2023-02-13 00:00:00\n",
      "2023-02-14 00:00:00\n",
      "2023-02-15 00:00:00\n",
      "2023-02-16 00:00:00\n",
      "2023-02-17 00:00:00\n",
      "2023-02-18 00:00:00\n",
      "2023-02-19 00:00:00\n",
      "2023-02-20 00:00:00\n",
      "2023-02-21 00:00:00\n",
      "2023-02-22 00:00:00\n",
      "2023-02-23 00:00:00\n",
      "2023-02-24 00:00:00\n",
      "2023-02-25 00:00:00\n",
      "2023-02-26 00:00:00\n",
      "2023-02-27 00:00:00\n",
      "2023-02-28 00:00:00\n",
      "2023-03-01 00:00:00\n",
      "2023-03-02 00:00:00\n",
      "2023-03-03 00:00:00\n",
      "2023-03-04 00:00:00\n"
     ]
    }
   ],
   "source": [
    "import time\n",
    "\n",
    "movie_date = []\n",
    "movie_name = []\n",
    "movie_point = []\n",
    "\n",
    "date = pd.date_range('2023.1.1', periods = 63, freq='D')\n",
    "\n",
    "for today in date :\n",
    "    html = \"https://movie.naver.com/movie/sdb/rank/rmovie.naver?sel=cur&date={date}\"\n",
    "    response = urlopen(html.format(date=today.strftime('%Y%m%d')))\n",
    "    soup = BeautifulSoup(response, 'html.parser')\n",
    "    \n",
    "    movie_date.extend([today]*len(soup.find_all('td','point')))\n",
    "    movie_name.extend([i.a.text for i in soup.find_all('div', 'tit5')])\n",
    "    movie_point.extend([i.string for i in soup.find_all('td', 'point')])\n",
    "    \n",
    "    print(str(today))\n",
    "    time.sleep(0.5)"
   ]
  },
  {
   "cell_type": "code",
   "execution_count": 12,
   "id": "f6b989bc",
   "metadata": {},
   "outputs": [
    {
     "name": "stdout",
     "output_type": "stream",
     "text": [
      "날짜:  2835\n",
      "영화:  2835\n",
      "평점:  2835\n"
     ]
    }
   ],
   "source": [
    "print(\"날짜: \", len(movie_date))\n",
    "print(\"영화: \", len(movie_name))\n",
    "print(\"평점: \", len(movie_point))"
   ]
  },
  {
   "cell_type": "code",
   "execution_count": 13,
   "id": "2031d369",
   "metadata": {},
   "outputs": [
    {
     "data": {
      "text/html": [
       "<div>\n",
       "<style scoped>\n",
       "    .dataframe tbody tr th:only-of-type {\n",
       "        vertical-align: middle;\n",
       "    }\n",
       "\n",
       "    .dataframe tbody tr th {\n",
       "        vertical-align: top;\n",
       "    }\n",
       "\n",
       "    .dataframe thead th {\n",
       "        text-align: right;\n",
       "    }\n",
       "</style>\n",
       "<table border=\"1\" class=\"dataframe\">\n",
       "  <thead>\n",
       "    <tr style=\"text-align: right;\">\n",
       "      <th></th>\n",
       "      <th>date</th>\n",
       "      <th>name</th>\n",
       "      <th>point</th>\n",
       "    </tr>\n",
       "  </thead>\n",
       "  <tbody>\n",
       "    <tr>\n",
       "      <th>0</th>\n",
       "      <td>2023-01-01</td>\n",
       "      <td>씽2게더</td>\n",
       "      <td>9.37</td>\n",
       "    </tr>\n",
       "    <tr>\n",
       "      <th>1</th>\n",
       "      <td>2023-01-01</td>\n",
       "      <td>올빼미</td>\n",
       "      <td>9.36</td>\n",
       "    </tr>\n",
       "    <tr>\n",
       "      <th>2</th>\n",
       "      <td>2023-01-01</td>\n",
       "      <td>시네마 천국</td>\n",
       "      <td>9.33</td>\n",
       "    </tr>\n",
       "    <tr>\n",
       "      <th>3</th>\n",
       "      <td>2023-01-01</td>\n",
       "      <td>극장판 주술회전 0</td>\n",
       "      <td>9.22</td>\n",
       "    </tr>\n",
       "    <tr>\n",
       "      <th>4</th>\n",
       "      <td>2023-01-01</td>\n",
       "      <td>어바웃 타임</td>\n",
       "      <td>9.18</td>\n",
       "    </tr>\n",
       "  </tbody>\n",
       "</table>\n",
       "</div>"
      ],
      "text/plain": [
       "        date        name point\n",
       "0 2023-01-01        씽2게더  9.37\n",
       "1 2023-01-01         올빼미  9.36\n",
       "2 2023-01-01      시네마 천국  9.33\n",
       "3 2023-01-01  극장판 주술회전 0  9.22\n",
       "4 2023-01-01      어바웃 타임  9.18"
      ]
     },
     "execution_count": 13,
     "metadata": {},
     "output_type": "execute_result"
    }
   ],
   "source": [
    "movie = pd.DataFrame({'date': movie_date, 'name': movie_name,\n",
    "                     'point': movie_point})\n",
    "movie.head()"
   ]
  },
  {
   "cell_type": "code",
   "execution_count": 14,
   "id": "9a6acec5",
   "metadata": {},
   "outputs": [
    {
     "data": {
      "text/html": [
       "<div>\n",
       "<style scoped>\n",
       "    .dataframe tbody tr th:only-of-type {\n",
       "        vertical-align: middle;\n",
       "    }\n",
       "\n",
       "    .dataframe tbody tr th {\n",
       "        vertical-align: top;\n",
       "    }\n",
       "\n",
       "    .dataframe thead th {\n",
       "        text-align: right;\n",
       "    }\n",
       "</style>\n",
       "<table border=\"1\" class=\"dataframe\">\n",
       "  <thead>\n",
       "    <tr style=\"text-align: right;\">\n",
       "      <th></th>\n",
       "      <th>date</th>\n",
       "      <th>name</th>\n",
       "      <th>point</th>\n",
       "    </tr>\n",
       "  </thead>\n",
       "  <tbody>\n",
       "    <tr>\n",
       "      <th>2830</th>\n",
       "      <td>2023-03-04</td>\n",
       "      <td>앤트맨과 와스프: 퀀텀매니아</td>\n",
       "      <td>7.18</td>\n",
       "    </tr>\n",
       "    <tr>\n",
       "      <th>2831</th>\n",
       "      <td>2023-03-04</td>\n",
       "      <td>유령</td>\n",
       "      <td>6.81</td>\n",
       "    </tr>\n",
       "    <tr>\n",
       "      <th>2832</th>\n",
       "      <td>2023-03-04</td>\n",
       "      <td>원피스 필름 레드</td>\n",
       "      <td>6.77</td>\n",
       "    </tr>\n",
       "    <tr>\n",
       "      <th>2833</th>\n",
       "      <td>2023-03-04</td>\n",
       "      <td>대외비</td>\n",
       "      <td>6.19</td>\n",
       "    </tr>\n",
       "    <tr>\n",
       "      <th>2834</th>\n",
       "      <td>2023-03-04</td>\n",
       "      <td>귀멸의 칼날: 상현집결, 그리고 도공 마을로</td>\n",
       "      <td>6.09</td>\n",
       "    </tr>\n",
       "  </tbody>\n",
       "</table>\n",
       "</div>"
      ],
      "text/plain": [
       "           date                      name point\n",
       "2830 2023-03-04           앤트맨과 와스프: 퀀텀매니아  7.18\n",
       "2831 2023-03-04                        유령  6.81\n",
       "2832 2023-03-04                 원피스 필름 레드  6.77\n",
       "2833 2023-03-04                       대외비  6.19\n",
       "2834 2023-03-04  귀멸의 칼날: 상현집결, 그리고 도공 마을로  6.09"
      ]
     },
     "execution_count": 14,
     "metadata": {},
     "output_type": "execute_result"
    }
   ],
   "source": [
    "movie.tail()"
   ]
  },
  {
   "cell_type": "code",
   "execution_count": 15,
   "id": "ad3a680a",
   "metadata": {},
   "outputs": [
    {
     "data": {
      "text/plain": [
       "2835"
      ]
     },
     "execution_count": 15,
     "metadata": {},
     "output_type": "execute_result"
    }
   ],
   "source": [
    "len(movie)"
   ]
  },
  {
   "cell_type": "code",
   "execution_count": 16,
   "id": "b0b82b81",
   "metadata": {},
   "outputs": [],
   "source": [
    "movie.to_csv('naver_movie_point_20230101.csv',\n",
    "            sep = ',', encoding='utf-8')"
   ]
  },
  {
   "cell_type": "code",
   "execution_count": 17,
   "id": "2c512522",
   "metadata": {
    "scrolled": false
   },
   "outputs": [
    {
     "data": {
      "text/html": [
       "<div>\n",
       "<style scoped>\n",
       "    .dataframe tbody tr th:only-of-type {\n",
       "        vertical-align: middle;\n",
       "    }\n",
       "\n",
       "    .dataframe tbody tr th {\n",
       "        vertical-align: top;\n",
       "    }\n",
       "\n",
       "    .dataframe thead th {\n",
       "        text-align: right;\n",
       "    }\n",
       "</style>\n",
       "<table border=\"1\" class=\"dataframe\">\n",
       "  <thead>\n",
       "    <tr style=\"text-align: right;\">\n",
       "      <th></th>\n",
       "      <th>Unnamed: 0</th>\n",
       "      <th>date</th>\n",
       "      <th>name</th>\n",
       "      <th>point</th>\n",
       "    </tr>\n",
       "  </thead>\n",
       "  <tbody>\n",
       "    <tr>\n",
       "      <th>0</th>\n",
       "      <td>0</td>\n",
       "      <td>2023-01-01</td>\n",
       "      <td>씽2게더</td>\n",
       "      <td>9.37</td>\n",
       "    </tr>\n",
       "    <tr>\n",
       "      <th>1</th>\n",
       "      <td>1</td>\n",
       "      <td>2023-01-01</td>\n",
       "      <td>올빼미</td>\n",
       "      <td>9.36</td>\n",
       "    </tr>\n",
       "    <tr>\n",
       "      <th>2</th>\n",
       "      <td>2</td>\n",
       "      <td>2023-01-01</td>\n",
       "      <td>시네마 천국</td>\n",
       "      <td>9.33</td>\n",
       "    </tr>\n",
       "    <tr>\n",
       "      <th>3</th>\n",
       "      <td>3</td>\n",
       "      <td>2023-01-01</td>\n",
       "      <td>극장판 주술회전 0</td>\n",
       "      <td>9.22</td>\n",
       "    </tr>\n",
       "    <tr>\n",
       "      <th>4</th>\n",
       "      <td>4</td>\n",
       "      <td>2023-01-01</td>\n",
       "      <td>어바웃 타임</td>\n",
       "      <td>9.18</td>\n",
       "    </tr>\n",
       "  </tbody>\n",
       "</table>\n",
       "</div>"
      ],
      "text/plain": [
       "   Unnamed: 0        date        name  point\n",
       "0           0  2023-01-01        씽2게더   9.37\n",
       "1           1  2023-01-01         올빼미   9.36\n",
       "2           2  2023-01-01      시네마 천국   9.33\n",
       "3           3  2023-01-01  극장판 주술회전 0   9.22\n",
       "4           4  2023-01-01      어바웃 타임   9.18"
      ]
     },
     "execution_count": 17,
     "metadata": {},
     "output_type": "execute_result"
    }
   ],
   "source": [
    "movie = pd.read_csv('naver_movie_point_20230101.csv')\n",
    "movie.head()"
   ]
  },
  {
   "cell_type": "code",
   "execution_count": 18,
   "id": "dd921c47",
   "metadata": {},
   "outputs": [
    {
     "name": "stdout",
     "output_type": "stream",
     "text": [
      "<class 'pandas.core.frame.DataFrame'>\n",
      "RangeIndex: 2835 entries, 0 to 2834\n",
      "Data columns (total 4 columns):\n",
      " #   Column      Non-Null Count  Dtype  \n",
      "---  ------      --------------  -----  \n",
      " 0   Unnamed: 0  2835 non-null   int64  \n",
      " 1   date        2835 non-null   object \n",
      " 2   name        2835 non-null   object \n",
      " 3   point       2835 non-null   float64\n",
      "dtypes: float64(1), int64(1), object(2)\n",
      "memory usage: 88.7+ KB\n"
     ]
    }
   ],
   "source": [
    "movie.info()"
   ]
  },
  {
   "cell_type": "code",
   "execution_count": 19,
   "id": "33858932",
   "metadata": {},
   "outputs": [
    {
     "data": {
      "text/html": [
       "<div>\n",
       "<style scoped>\n",
       "    .dataframe tbody tr th:only-of-type {\n",
       "        vertical-align: middle;\n",
       "    }\n",
       "\n",
       "    .dataframe tbody tr th {\n",
       "        vertical-align: top;\n",
       "    }\n",
       "\n",
       "    .dataframe thead th {\n",
       "        text-align: right;\n",
       "    }\n",
       "</style>\n",
       "<table border=\"1\" class=\"dataframe\">\n",
       "  <thead>\n",
       "    <tr style=\"text-align: right;\">\n",
       "      <th></th>\n",
       "      <th>date</th>\n",
       "      <th>name</th>\n",
       "      <th>point</th>\n",
       "    </tr>\n",
       "  </thead>\n",
       "  <tbody>\n",
       "    <tr>\n",
       "      <th>0</th>\n",
       "      <td>2023-01-01</td>\n",
       "      <td>씽2게더</td>\n",
       "      <td>9.37</td>\n",
       "    </tr>\n",
       "    <tr>\n",
       "      <th>1</th>\n",
       "      <td>2023-01-01</td>\n",
       "      <td>올빼미</td>\n",
       "      <td>9.36</td>\n",
       "    </tr>\n",
       "    <tr>\n",
       "      <th>2</th>\n",
       "      <td>2023-01-01</td>\n",
       "      <td>시네마 천국</td>\n",
       "      <td>9.33</td>\n",
       "    </tr>\n",
       "    <tr>\n",
       "      <th>3</th>\n",
       "      <td>2023-01-01</td>\n",
       "      <td>극장판 주술회전 0</td>\n",
       "      <td>9.22</td>\n",
       "    </tr>\n",
       "    <tr>\n",
       "      <th>4</th>\n",
       "      <td>2023-01-01</td>\n",
       "      <td>어바웃 타임</td>\n",
       "      <td>9.18</td>\n",
       "    </tr>\n",
       "  </tbody>\n",
       "</table>\n",
       "</div>"
      ],
      "text/plain": [
       "         date        name  point\n",
       "0  2023-01-01        씽2게더   9.37\n",
       "1  2023-01-01         올빼미   9.36\n",
       "2  2023-01-01      시네마 천국   9.33\n",
       "3  2023-01-01  극장판 주술회전 0   9.22\n",
       "4  2023-01-01      어바웃 타임   9.18"
      ]
     },
     "execution_count": 19,
     "metadata": {},
     "output_type": "execute_result"
    }
   ],
   "source": [
    "movie = movie.drop([\"Unnamed: 0\"],axis=1)\n",
    "movie.head()"
   ]
  },
  {
   "cell_type": "code",
   "execution_count": 20,
   "id": "9345e7a9",
   "metadata": {},
   "outputs": [
    {
     "data": {
      "text/html": [
       "<div>\n",
       "<style scoped>\n",
       "    .dataframe tbody tr th:only-of-type {\n",
       "        vertical-align: middle;\n",
       "    }\n",
       "\n",
       "    .dataframe tbody tr th {\n",
       "        vertical-align: top;\n",
       "    }\n",
       "\n",
       "    .dataframe thead th {\n",
       "        text-align: right;\n",
       "    }\n",
       "</style>\n",
       "<table border=\"1\" class=\"dataframe\">\n",
       "  <thead>\n",
       "    <tr style=\"text-align: right;\">\n",
       "      <th></th>\n",
       "      <th>point</th>\n",
       "    </tr>\n",
       "    <tr>\n",
       "      <th>name</th>\n",
       "      <th></th>\n",
       "    </tr>\n",
       "  </thead>\n",
       "  <tbody>\n",
       "    <tr>\n",
       "      <th>올빼미</th>\n",
       "      <td>587.38</td>\n",
       "    </tr>\n",
       "    <tr>\n",
       "      <th>극장판 주술회전 0</th>\n",
       "      <td>580.43</td>\n",
       "    </tr>\n",
       "    <tr>\n",
       "      <th>러브레터</th>\n",
       "      <td>575.58</td>\n",
       "    </tr>\n",
       "    <tr>\n",
       "      <th>탄생</th>\n",
       "      <td>572.12</td>\n",
       "    </tr>\n",
       "    <tr>\n",
       "      <th>더 퍼스트 슬램덩크</th>\n",
       "      <td>569.37</td>\n",
       "    </tr>\n",
       "    <tr>\n",
       "      <th>영웅</th>\n",
       "      <td>567.23</td>\n",
       "    </tr>\n",
       "    <tr>\n",
       "      <th>너의 이름은.</th>\n",
       "      <td>555.03</td>\n",
       "    </tr>\n",
       "    <tr>\n",
       "      <th>아바타: 물의 길</th>\n",
       "      <td>544.74</td>\n",
       "    </tr>\n",
       "    <tr>\n",
       "      <th>헤어질 결심</th>\n",
       "      <td>544.64</td>\n",
       "    </tr>\n",
       "    <tr>\n",
       "      <th>라라랜드</th>\n",
       "      <td>543.69</td>\n",
       "    </tr>\n",
       "  </tbody>\n",
       "</table>\n",
       "</div>"
      ],
      "text/plain": [
       "             point\n",
       "name              \n",
       "올빼미         587.38\n",
       "극장판 주술회전 0  580.43\n",
       "러브레터        575.58\n",
       "탄생          572.12\n",
       "더 퍼스트 슬램덩크  569.37\n",
       "영웅          567.23\n",
       "너의 이름은.     555.03\n",
       "아바타: 물의 길   544.74\n",
       "헤어질 결심      544.64\n",
       "라라랜드        543.69"
      ]
     },
     "execution_count": 20,
     "metadata": {},
     "output_type": "execute_result"
    }
   ],
   "source": [
    "import numpy as np\n",
    "\n",
    "movie_unique = pd.pivot_table(movie, index=['name'],\n",
    "                             aggfunc=np.sum)  # np.mean 평균\n",
    "\n",
    "# ascending=False : 내림차순,  ascending=True : 오름차순\n",
    "movie_unique.sort_values('point', ascending=False).head(10)"
   ]
  },
  {
   "cell_type": "code",
   "execution_count": 21,
   "id": "4fabaf03",
   "metadata": {
    "scrolled": false
   },
   "outputs": [
    {
     "data": {
      "text/html": [
       "<div>\n",
       "<style scoped>\n",
       "    .dataframe tbody tr th:only-of-type {\n",
       "        vertical-align: middle;\n",
       "    }\n",
       "\n",
       "    .dataframe tbody tr th {\n",
       "        vertical-align: top;\n",
       "    }\n",
       "\n",
       "    .dataframe thead th {\n",
       "        text-align: right;\n",
       "    }\n",
       "</style>\n",
       "<table border=\"1\" class=\"dataframe\">\n",
       "  <thead>\n",
       "    <tr style=\"text-align: right;\">\n",
       "      <th></th>\n",
       "      <th>date</th>\n",
       "      <th>name</th>\n",
       "      <th>point</th>\n",
       "    </tr>\n",
       "  </thead>\n",
       "  <tbody>\n",
       "    <tr>\n",
       "      <th>1</th>\n",
       "      <td>2023-01-01</td>\n",
       "      <td>올빼미</td>\n",
       "      <td>9.36</td>\n",
       "    </tr>\n",
       "    <tr>\n",
       "      <th>36</th>\n",
       "      <td>2023-01-02</td>\n",
       "      <td>올빼미</td>\n",
       "      <td>9.36</td>\n",
       "    </tr>\n",
       "    <tr>\n",
       "      <th>75</th>\n",
       "      <td>2023-01-03</td>\n",
       "      <td>올빼미</td>\n",
       "      <td>9.36</td>\n",
       "    </tr>\n",
       "    <tr>\n",
       "      <th>114</th>\n",
       "      <td>2023-01-04</td>\n",
       "      <td>올빼미</td>\n",
       "      <td>9.36</td>\n",
       "    </tr>\n",
       "    <tr>\n",
       "      <th>153</th>\n",
       "      <td>2023-01-05</td>\n",
       "      <td>올빼미</td>\n",
       "      <td>9.36</td>\n",
       "    </tr>\n",
       "    <tr>\n",
       "      <th>...</th>\n",
       "      <td>...</td>\n",
       "      <td>...</td>\n",
       "      <td>...</td>\n",
       "    </tr>\n",
       "    <tr>\n",
       "      <th>2588</th>\n",
       "      <td>2023-02-28</td>\n",
       "      <td>올빼미</td>\n",
       "      <td>9.30</td>\n",
       "    </tr>\n",
       "    <tr>\n",
       "      <th>2639</th>\n",
       "      <td>2023-03-01</td>\n",
       "      <td>올빼미</td>\n",
       "      <td>9.30</td>\n",
       "    </tr>\n",
       "    <tr>\n",
       "      <th>2689</th>\n",
       "      <td>2023-03-02</td>\n",
       "      <td>올빼미</td>\n",
       "      <td>9.30</td>\n",
       "    </tr>\n",
       "    <tr>\n",
       "      <th>2739</th>\n",
       "      <td>2023-03-03</td>\n",
       "      <td>올빼미</td>\n",
       "      <td>9.30</td>\n",
       "    </tr>\n",
       "    <tr>\n",
       "      <th>2789</th>\n",
       "      <td>2023-03-04</td>\n",
       "      <td>올빼미</td>\n",
       "      <td>9.30</td>\n",
       "    </tr>\n",
       "  </tbody>\n",
       "</table>\n",
       "<p>63 rows × 3 columns</p>\n",
       "</div>"
      ],
      "text/plain": [
       "            date name  point\n",
       "1     2023-01-01  올빼미   9.36\n",
       "36    2023-01-02  올빼미   9.36\n",
       "75    2023-01-03  올빼미   9.36\n",
       "114   2023-01-04  올빼미   9.36\n",
       "153   2023-01-05  올빼미   9.36\n",
       "...          ...  ...    ...\n",
       "2588  2023-02-28  올빼미   9.30\n",
       "2639  2023-03-01  올빼미   9.30\n",
       "2689  2023-03-02  올빼미   9.30\n",
       "2739  2023-03-03  올빼미   9.30\n",
       "2789  2023-03-04  올빼미   9.30\n",
       "\n",
       "[63 rows x 3 columns]"
      ]
     },
     "execution_count": 21,
     "metadata": {},
     "output_type": "execute_result"
    }
   ],
   "source": [
    "movie[movie['name'] == \"올빼미\"]"
   ]
  },
  {
   "cell_type": "code",
   "execution_count": 22,
   "id": "7892ce5b",
   "metadata": {},
   "outputs": [
    {
     "data": {
      "image/png": "[encoded data removed]",
      "text/plain": [
       "<Figure size 1728x576 with 1 Axes>"
      ]
     },
     "metadata": {
      "needs_background": "light"
     },
     "output_type": "display_data"
    }
   ],
   "source": [
    "import matplotlib.pyplot as plt\n",
    "\n",
    "plt.figure(figsize=(24, 8))\n",
    "plt.plot(movie[movie['name']==\"올빼미\"]['date'],\n",
    "        movie[movie['name']==\"올빼미\"]['point'])\n",
    "plt.legend(labels=['point']) # 범례 : 설명\n",
    "plt.xticks(rotation=45)      # X 축이름\n",
    "plt.grid()    # 격자무늬\n",
    "plt.show()"
   ]
  }
 ],
 "metadata": {
  "kernelspec": {
   "display_name": "Python 3 (ipykernel)",
   "language": "python",
   "name": "python3"
  },
  "language_info": {
   "codemirror_mode": {
    "name": "ipython",
    "version": 3
   },
   "file_extension": ".py",
   "mimetype": "text/x-python",
   "name": "python",
   "nbconvert_exporter": "python",
   "pygments_lexer": "ipython3",
   "version": "3.9.12"
  }
 },
 "nbformat": 4,
 "nbformat_minor": 5
}
